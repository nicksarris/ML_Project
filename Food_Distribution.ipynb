{
 "cells": [
  {
   "cell_type": "code",
   "execution_count": 76,
   "metadata": {},
   "outputs": [],
   "source": [
    "# Importing Necessary Libraries\n",
    "\n",
    "import io\n",
    "import math\n",
    "import base64\n",
    "import operator\n",
    "import statistics\n",
    "\n",
    "import matplotlib.pyplot as plt\n",
    "from matplotlib import animation, rc\n",
    "import matplotlib.ticker as ticker\n",
    "from IPython.display import HTML, Image\n",
    "\n",
    "import pandas as pd\n",
    "import numpy as np\n",
    "import seaborn as sns\n",
    "\n",
    "from sklearn.linear_model import LinearRegression\n",
    "from sklearn.ensemble import RandomForestRegressor\n",
    "from sklearn.ensemble import ExtraTreesRegressor\n",
    "from sklearn.model_selection import train_test_split\n",
    "from sklearn.model_selection import KFold\n",
    "from sklearn.metrics import r2_score,mean_squared_error\n",
    "from sklearn.preprocessing import PolynomialFeatures"
   ]
  },
  {
   "cell_type": "code",
   "execution_count": 77,
   "metadata": {},
   "outputs": [],
   "source": [
    "# Loading Food Data\n",
    "\n",
    "food_data = pd.read_csv(\"Capital_Area_Food_Bank_Hunger_Estimates.csv\")"
   ]
  },
  {
   "cell_type": "code",
   "execution_count": 78,
   "metadata": {},
   "outputs": [
    {
     "name": "stdout",
     "output_type": "stream",
     "text": [
      "(1039, 42)\n",
      "Index(['OBJECTID', 'STATEFP10', 'COUNTYFP10', 'TRACTCE10', 'GEOID10', 'NAME10',\n",
      "       'NAMELSAD10', 'MTFCC10', 'FUNCSTAT10', 'ALAND10', 'AWATER10',\n",
      "       'GEOGRAPH', 'TRACT', 'POVERTY200', 'TRACTCE', 'PERCENT_CA',\n",
      "       'PERCENT_TR', 'PERCENT_WA', 'TOTAL_POP', 'UNEMPLOYME', 'POVERTY_RA',\n",
      "       'MEDIAN_INC', 'PERCENT_BL', 'PERCENT_HI', 'HOME_OWN', 'F15_FI_RATE',\n",
      "       'F15_FI_POP', 'F15_LB_NEED', 'F15_LB_UNME', 'F15_DISTRIB', 'F15_PPIN',\n",
      "       'FY_FI_RATE', 'FY_FI_POP', 'FY_LB_UNME', 'FY_DISTRIB', 'FY_PPIN',\n",
      "       'F14_FI_RATE', 'F14_LB_UNME', 'F14_DISTRIB', 'F14_PPIN', 'SHAPEAREA',\n",
      "       'SHAPELEN'],\n",
      "      dtype='object')\n",
      "Empty DataFrame\n",
      "Columns: [OBJECTID, STATEFP10, COUNTYFP10, TRACTCE10, GEOID10, NAME10, NAMELSAD10, MTFCC10, FUNCSTAT10, ALAND10, AWATER10, GEOGRAPH, TRACT, POVERTY200, TRACTCE, PERCENT_CA, PERCENT_TR, PERCENT_WA, TOTAL_POP, UNEMPLOYME, POVERTY_RA, MEDIAN_INC, PERCENT_BL, PERCENT_HI, HOME_OWN, F15_FI_RATE, F15_FI_POP, F15_LB_NEED, F15_LB_UNME, F15_DISTRIB, F15_PPIN, FY_FI_RATE, FY_FI_POP, FY_LB_UNME, FY_DISTRIB, FY_PPIN, F14_FI_RATE, F14_LB_UNME, F14_DISTRIB, F14_PPIN, SHAPEAREA, SHAPELEN]\n",
      "Index: []\n",
      "\n",
      "[0 rows x 42 columns]\n"
     ]
    }
   ],
   "source": [
    "# Taking an Initial Look at Data\n",
    "\n",
    "print(food_data.shape)\n",
    "print(food_data.columns)\n",
    "print(food_data[food_data.isnull().any(axis=1)])"
   ]
  },
  {
   "cell_type": "markdown",
   "metadata": {},
   "source": [
    "<h3><b>Feature Analysis (Individual)</b></h3>"
   ]
  },
  {
   "cell_type": "markdown",
   "metadata": {},
   "source": [
    "This section is primarily meant to explore how each of the given features relate solely to the target column, as well as to determine which of the overall features provide the most useful information. Not only this, I will also explore ways they can be improved in order to divulge even more information and assess their contribution to the model generated later in this EDA.\n"
   ]
  },
  {
   "cell_type": "code",
   "execution_count": 79,
   "metadata": {},
   "outputs": [
    {
     "name": "stdout",
     "output_type": "stream",
     "text": [
      "We have 1039 rows and 42 columns.\n",
      "   OBJECTID  STATEFP10  COUNTYFP10  TRACTCE10      GEOID10   NAME10  \\\n",
      "0        26         24          31     703402  24031703402  7034.02   \n",
      "1        27         24          31     701202  24031701202  7012.02   \n",
      "\n",
      "             NAMELSAD10 MTFCC10 FUNCSTAT10  ALAND10  ...  FY_FI_POP  \\\n",
      "0  Census Tract 7034.02   G5020          S  1257675  ...   0.000000   \n",
      "1  Census Tract 7012.02   G5020          S  1841629  ...  87.030944   \n",
      "\n",
      "     FY_LB_UNME   FY_DISTRIB    FY_PPIN  F14_FI_RATE   F14_LB_UNME  \\\n",
      "0      0.000000     0.000000   0.000000          2.0  12250.272452   \n",
      "1  14863.288579  3413.209661  39.218346          3.6  17749.107675   \n",
      "\n",
      "   F14_DISTRIB   F14_PPIN     SHAPEAREA     SHAPELEN  \n",
      "0      2038.13  29.954845  1.257565e+06  4579.987688  \n",
      "1      2496.57  25.895904  1.848218e+06  6774.565707  \n",
      "\n",
      "[2 rows x 42 columns]\n"
     ]
    }
   ],
   "source": [
    "# Looking at Dataset Shape/Head\n",
    "\n",
    "print('We have {} rows and {} columns.'.format(food_data.shape[0], food_data.shape[1]))\n",
    "print(food_data.head(2))"
   ]
  },
  {
   "cell_type": "markdown",
   "metadata": {},
   "source": [
    "The dataset we are using contains the data from the DC area food banks on the food given out at different food banks over several years. There are features such as what was needed by the community and what was sent to the food bank that year. Overall, it consists of 1032 rows and 42 columns throughout. We'll go in depth about each of these individual columns below and analyze whether or not they're going to be useful to our project throughout.\n",
    "\n",
    "List of Columns: OBJECTID, STATEFP10, COUNTYFP10, TRACTCE10, GEOID10, NAME10, NAMELSAD10, MTFCC10, FUNCSTAT10, ALAND10, AWATER10, GEOGRAPH, TRACT, POVERTY200, TRACTCE, PERCENT_CA, PERCENT_TR, PERCENT_WA, TOTAL_POP, UNEMPLOYME, POVERTY_RA, MEDIAN_INC, PERCENT_BL, PERCENT_HI, HOME_OWN, F15_FI_RATE, F15_FI_POP, F15_LB_NEED, F15_LB_UNME, F15_DISTRIB, F15_PPIN, FY_FI_RATE, FY_FI_POP, FY_LB_UNME, FY_DISTRIB, FY_PPIN, F14_FI_RATE, F14_LB_UNME, F14_DISTRIB, F14_PPIN, SHAPEAREA, SHAPELEN\n",
    "\n",
    "Sadly, looking at the list of columns in the data, we were never really given a description of what some of these features refer to. I'll separate them in the list below based on what information we are able to go and derive based on the name and, following, information that we're unsure about.\n",
    "\n",
    "<ul>\n",
    "    <b>ID Columns</b>\n",
    "    <li>ObjectID (int64): The unique ID of the row/item being discussed</li>\n",
    "    <li>StateFP10 (int64): The state ID of the row/item being discussed</li>\n",
    "    <li>CountyFP10 (int64): The county ID of the row/item being discussed</li>\n",
    "    <li>TractFP10 (int64): The tract ID of the row/item being discussed</li>\n",
    "    <li>GeoID10 (int64): The geographic ID of the row/item being discussed</li>\n",
    "    <li>Name10 (float): The name of the row/item being discussed</li>\n",
    "    <li>NameLSad10 (object): The longer/more descriptive name of the row/item</li>\n",
    "</ul>\n",
    "\n",
    "These columns specifically go and refer to the individual name/ID of the land/tract/etc. being discussed in the row throughout. Each of these values mentioned above act as an identifier that specifically helps to distinguish the item described from those whom might be similar regarding other traits.\n",
    "\n",
    "<ul>\n",
    "    <b>Attribute Columns</b>\n",
    "    <li>ALand10 (int64): Land area of the row/item being discussed</li>\n",
    "    <li>AWater10 (int64): Water area of the row/item being discussed</li>\n",
    "    <li>TotalPop (int64): Total population of the row/item being discussed</li>\n",
    "    <li>Unemployme (float): Unemployment rate of the row/item being discussed</li>\n",
    "    <li>PovertyRa (float): Poverty rate of the row/item being discussed</li>\n",
    "    <li>MedianInc (float): Median income of the row/item being discussed</li>\n",
    "    <li>PercentBl (float): Percentage of African-Americans who live in the row/item being discussed</li>\n",
    "    <li>PercentHi (float): Percentage of Hispanics who live in the row/item being discussed</li>\n",
    "    <li>HomeOwn (float): Percentage of homeowners who live in the row/item being discussed</li>\n",
    "</ul>\n",
    "\n",
    "These columns delve further into the traits/attributes that help to characterize the land/tract/etc. being discussed in the row throughout. These features in particular will probably be some of those that help the most with feature engineering in particular, as they're the ones that specifically differentiate the pieces of land from each other with regards to demographics, helping us to get further insights into the population and individuals that live there.\n",
    "\n",
    "<ul>\n",
    "    <b>Food/Distribution Columns</b>\n",
    "    <li>Fx_FI_Rate (float): The estimated portion of the population in the census tract experiencing food insecurity</li>\n",
    "    <li>Fx_FI_Pop (float): The estimated number of people in the census tract experiencing food insecurity</li>\n",
    "    <li>Fx_LB_Need (float): The estimated pounds of food needed by the food insecure population in the census tract</li>\n",
    "    <li>Fx_Distrib (float): The number of pounds of food distributed by CAFB and partners in the census tract</li>\n",
    "    <li>Fx_LB_Unme (float): The difference between the estimated pounds of food needed and the real pounds of food distributed</li>\n",
    "</ul>\n",
    "\n",
    "These columns are perhaps the most important, as they specifically have to do with the target variable that we'll select/look into. The column 'Fx_LB_Unme' will perhaps be later selected to be the target, as it in particular deals with the either the amount of unnecessary food delivered or the amount of food lacking throughout.\n",
    "\n",
    "<ul>\n",
    "    <b>Unknown Columns</b>\n",
    "    <li>MTFCC10 (object): Seems like another ID value but not completely sure.</li>\n",
    "    <li>FuncStat10 (object): Seems like another either ID value or attribute but not completey sure</li>\n",
    "</ul>\n",
    "\n",
    "Both of these columns don't seem to be that important at all, and don't offer much information throughout from what I can tell. Unless I find out that they're incredibly valuable as a whole when I look into analysis further, I'm probably going to drop them from consideration regarding any models built.\n",
    "\n",
    "<ul>\n",
    "    <b>Unknown Columns</b>\n",
    "    <li>Percent_CA (object): Seems like an attribute column, could be useful for feature engineering</li>\n",
    "    <li>Percent_TR (object): Seems like an attribute column, could be useful for feature engineering</li>\n",
    "    <li>Percent_WA (object): Seems like an attribute column, could be useful for feature engineering</li>\n",
    "</ul>\n",
    "\n",
    "These columns are definitely attributes of a given census tract, but there's no indication of what they stand for. Nevertheless, they'll probably come in handy when taking feature engineering into consideration."
   ]
  },
  {
   "cell_type": "code",
   "execution_count": 80,
   "metadata": {},
   "outputs": [
    {
     "data": {
      "text/plain": [
       "['NAMELSAD10', 'MTFCC10', 'FUNCSTAT10']"
      ]
     },
     "execution_count": 80,
     "metadata": {},
     "output_type": "execute_result"
    }
   ],
   "source": [
    "num_cols = food_data._get_numeric_data().columns\n",
    "categorical_columns = list(set(food_data.columns) - set(num_cols))\n",
    "categorical_columns"
   ]
  },
  {
   "cell_type": "markdown",
   "metadata": {},
   "source": [
    "As mentioned above, I'm just going to remove each of the columns above. We have no idea what 'MTFCC10' and 'FUNCSTAT10' refer to, and it seems like all the information to be gained from 'NAMELSAD10' is contained in the abbreviated 'NAME' column. There's nothing further to be gained from simply encoding each individual value in 'NAMELSAD10', given that there won't be any overlap."
   ]
  },
  {
   "cell_type": "code",
   "execution_count": 81,
   "metadata": {},
   "outputs": [],
   "source": [
    "# Remove unnecessary columns \n",
    "\n",
    "food_data.drop(['FUNCSTAT10', 'NAMELSAD10', 'MTFCC10'], inplace=True, axis=1)"
   ]
  },
  {
   "cell_type": "markdown",
   "metadata": {},
   "source": [
    "The next thing I'm going to do is look into the 'Attribute' columns, as described above. Each of these individual columns help to describe an individual feature of a census tract, which can be instrumental when looking into the needs of each tract in their entirety, given that we want to help prevent unnecessary waste and improve distribution throughout."
   ]
  },
  {
   "cell_type": "code",
   "execution_count": 82,
   "metadata": {},
   "outputs": [],
   "source": [
    "attribute_cols = [\"ALAND10\", \"AWATER10\", \"PERCENT_CA\", \"PERCENT_TR\", \"PERCENT_WA\", \"TOTAL_POP\", \"UNEMPLOYME\", \n",
    "                  \"POVERTY_RA\", \"MEDIAN_INC\", \"PERCENT_BL\", \"PERCENT_HI\", \"HOME_OWN\"]\n",
    "\n",
    "tract_attributes = food_data[attribute_cols]"
   ]
  },
  {
   "cell_type": "code",
   "execution_count": 83,
   "metadata": {},
   "outputs": [
    {
     "data": {
      "image/png": "[encoded data removed]",
      "text/plain": [
       "<Figure size 864x360 with 2 Axes>"
      ]
     },
     "metadata": {
      "needs_background": "light"
     },
     "output_type": "display_data"
    }
   ],
   "source": [
    "# Assess Correlation of Data\n",
    "%matplotlib inline\n",
    "\n",
    "f = plt.figure(figsize=(12, 5))\n",
    "correlation = tract_attributes.corr()\n",
    "graph = sns.heatmap(correlation, mask=np.zeros_like(correlation, dtype=np.bool), cmap=\"Blues\", square=True)"
   ]
  },
  {
   "cell_type": "markdown",
   "metadata": {},
   "source": [
    "To no surprise, there's quite a correlation between both 'MEDIAN_INC' and 'HOME_OWN' as well as 'POVERTY_RA' and 'UNEMPLOYME', as these are stats that you'd expect to correlate, given their inherent nature. I'll continue to look further into the data and build a few features that could help us further - **[TBD]**."
   ]
  },
  {
   "cell_type": "markdown",
   "metadata": {},
   "source": [
    "Looking into the data further, we're going to use the \"F15_LB_NEED\" column as the target. As such, we're going to need to drop the similar columns in order to prevent leakage. Besides this, we can get rid of all the unnecessary \"ID\" columns throughout, as they probably won't provide too much helpful information for the model."
   ]
  },
  {
   "cell_type": "code",
   "execution_count": 84,
   "metadata": {},
   "outputs": [],
   "source": [
    "columns_to_drop = [\"F15_LB_UNME\", \"FY_FI_RATE\", \"FY_FI_POP\", \n",
    "                   \"FY_LB_UNME\", \"FY_DISTRIB\", \"FY_PPIN\", \"OBJECTID\", \n",
    "                   \"STATEFP10\", \"COUNTYFP10\", \"TRACTCE10\", \"GEOID10\", \n",
    "                   \"NAME10\"]\n",
    "\n",
    "for col in columns_to_drop:\n",
    "    food_data.drop(col, inplace=True, axis=1)"
   ]
  },
  {
   "cell_type": "markdown",
   "metadata": {},
   "source": [
    "Next, I'll go and create a simple model so that we can get a baseline score for the dataset throughout, without any feature engineering or advanced models throughout. I don't expect this score to be any good, given that the established columns provided don't seem too predictive as a whole just yet."
   ]
  },
  {
   "cell_type": "code",
   "execution_count": 85,
   "metadata": {},
   "outputs": [
    {
     "name": "stdout",
     "output_type": "stream",
     "text": [
      "Current R2: 0.9977191990472702\n"
     ]
    },
    {
     "name": "stderr",
     "output_type": "stream",
     "text": [
      "c:\\users\\student\\appdata\\local\\programs\\python\\python37-32\\lib\\site-packages\\sklearn\\ensemble\\forest.py:246: FutureWarning: The default value of n_estimators will change from 10 in version 0.20 to 100 in 0.22.\n",
      "  \"10 in version 0.20 to 100 in 0.22.\", FutureWarning)\n"
     ]
    }
   ],
   "source": [
    "train_y = food_data['F15_LB_NEED'].values\n",
    "train_x = food_data.drop('F15_LB_NEED', axis=1)\n",
    "xtra, xte, ytra, yte = train_test_split(\n",
    "    train_x, train_y, test_size=0.2)\n",
    "\n",
    "rf_params = {}\n",
    "rf_model = RandomForestRegressor()\n",
    "rf_model.fit(xtra, ytra)\n",
    "train_preds = rf_model.predict(xte)\n",
    "\n",
    "print(\"Current R2: {}\".format(r2_score(yte, train_preds)))"
   ]
  },
  {
   "cell_type": "markdown",
   "metadata": {},
   "source": [
    "It looks like I missed some leakage. There's definitely one column that's extremely predictive that is used to go and calculate the correct amount of food for each census tract. Let's go and look into the RandomForest feature importances and see which feature it happens to be."
   ]
  },
  {
   "cell_type": "code",
   "execution_count": 86,
   "metadata": {},
   "outputs": [
    {
     "data": {
      "text/html": [
       "<div>\n",
       "<style scoped>\n",
       "    .dataframe tbody tr th:only-of-type {\n",
       "        vertical-align: middle;\n",
       "    }\n",
       "\n",
       "    .dataframe tbody tr th {\n",
       "        vertical-align: top;\n",
       "    }\n",
       "\n",
       "    .dataframe thead th {\n",
       "        text-align: right;\n",
       "    }\n",
       "</style>\n",
       "<table border=\"1\" class=\"dataframe\">\n",
       "  <thead>\n",
       "    <tr style=\"text-align: right;\">\n",
       "      <th></th>\n",
       "      <th>importance</th>\n",
       "    </tr>\n",
       "  </thead>\n",
       "  <tbody>\n",
       "    <tr>\n",
       "      <th>F15_FI_POP</th>\n",
       "      <td>0.996514</td>\n",
       "    </tr>\n",
       "  </tbody>\n",
       "</table>\n",
       "</div>"
      ],
      "text/plain": [
       "            importance\n",
       "F15_FI_POP    0.996514"
      ]
     },
     "execution_count": 86,
     "metadata": {},
     "output_type": "execute_result"
    }
   ],
   "source": [
    "feature_importances = pd.DataFrame(\n",
    "    rf_model.feature_importances_, index = train_x.columns,\n",
    "    columns=['importance']).sort_values('importance', ascending=False)\n",
    "\n",
    "feature_importances[:1]"
   ]
  },
  {
   "cell_type": "markdown",
   "metadata": {},
   "source": [
    "As expected, one column happens to be extremely predictive; in this case it happens to be \"F15_FI_Pop\", which refers to the estimated number of people in the census tract whom happen to be experiencing food insecurity. I expect what happens is that the individuals whom decide how much food is needed simply multiply the total population in need by a scalar value. Realizing this, we now have to go and change up what we're trying to predict/work with, as there's no point in predicting a static value that explicitly is based off another value. However, although we may still change things up, we'll also go and repeat the same methodology as above, except with the \"F15_FI_Pop\" column removed. This will allow for us to get a feel for the overall predictiveness of the other features."
   ]
  },
  {
   "cell_type": "code",
   "execution_count": 90,
   "metadata": {},
   "outputs": [
    {
     "name": "stdout",
     "output_type": "stream",
     "text": [
      "Current R2: 0.9619844987062772\n"
     ]
    },
    {
     "name": "stderr",
     "output_type": "stream",
     "text": [
      "c:\\users\\student\\appdata\\local\\programs\\python\\python37-32\\lib\\site-packages\\sklearn\\ensemble\\forest.py:246: FutureWarning: The default value of n_estimators will change from 10 in version 0.20 to 100 in 0.22.\n",
      "  \"10 in version 0.20 to 100 in 0.22.\", FutureWarning)\n"
     ]
    }
   ],
   "source": [
    "food_data = food_data.drop([\"F15_FI_POP\", \"F14_LB_UNME\"], axis=1)\n",
    "\n",
    "train_y = food_data['F15_LB_NEED'].values\n",
    "train_x = food_data.drop('F15_LB_NEED', axis=1)\n",
    "xtra, xte, ytra, yte = train_test_split(\n",
    "    train_x, train_y, test_size=0.2)\n",
    "\n",
    "rf_params = {}\n",
    "rf_model = RandomForestRegressor()\n",
    "rf_model.fit(xtra, ytra)\n",
    "train_preds = rf_model.predict(xte)\n",
    "\n",
    "print(\"Current R2: {}\".format(r2_score(yte, train_preds)))"
   ]
  },
  {
   "cell_type": "code",
   "execution_count": 91,
   "metadata": {},
   "outputs": [
    {
     "data": {
      "text/html": [
       "<div>\n",
       "<style scoped>\n",
       "    .dataframe tbody tr th:only-of-type {\n",
       "        vertical-align: middle;\n",
       "    }\n",
       "\n",
       "    .dataframe tbody tr th {\n",
       "        vertical-align: top;\n",
       "    }\n",
       "\n",
       "    .dataframe thead th {\n",
       "        text-align: right;\n",
       "    }\n",
       "</style>\n",
       "<table border=\"1\" class=\"dataframe\">\n",
       "  <thead>\n",
       "    <tr style=\"text-align: right;\">\n",
       "      <th></th>\n",
       "      <th>importance</th>\n",
       "    </tr>\n",
       "  </thead>\n",
       "  <tbody>\n",
       "    <tr>\n",
       "      <th>F15_DISTRIB</th>\n",
       "      <td>0.390646</td>\n",
       "    </tr>\n",
       "    <tr>\n",
       "      <th>F15_FI_RATE</th>\n",
       "      <td>0.363532</td>\n",
       "    </tr>\n",
       "    <tr>\n",
       "      <th>TOTAL_POP</th>\n",
       "      <td>0.100499</td>\n",
       "    </tr>\n",
       "    <tr>\n",
       "      <th>F14_DISTRIB</th>\n",
       "      <td>0.082679</td>\n",
       "    </tr>\n",
       "    <tr>\n",
       "      <th>F15_PPIN</th>\n",
       "      <td>0.031479</td>\n",
       "    </tr>\n",
       "  </tbody>\n",
       "</table>\n",
       "</div>"
      ],
      "text/plain": [
       "             importance\n",
       "F15_DISTRIB    0.390646\n",
       "F15_FI_RATE    0.363532\n",
       "TOTAL_POP      0.100499\n",
       "F14_DISTRIB    0.082679\n",
       "F15_PPIN       0.031479"
      ]
     },
     "execution_count": 91,
     "metadata": {},
     "output_type": "execute_result"
    }
   ],
   "source": [
    "feature_importances = pd.DataFrame(\n",
    "    rf_model.feature_importances_, index = train_x.columns,\n",
    "    columns=['importance']).sort_values('importance', ascending=False)\n",
    "\n",
    "feature_importances[:5]"
   ]
  },
  {
   "cell_type": "markdown",
   "metadata": {},
   "source": [
    "That's a little more useful, as the overall distribution/rate seems to correlate with the overall need as a whole. We're probably still going to go and modify our target in order to predict a more useful statistic--probably the amount of wasted/unmet food so that CAFB and partners can optimize their overall distribution."
   ]
  },
  {
   "cell_type": "code",
   "execution_count": null,
   "metadata": {},
   "outputs": [],
   "source": []
  }
 ],
 "metadata": {
  "kernelspec": {
   "display_name": "Python 3",
   "language": "python",
   "name": "python3"
  },
  "language_info": {
   "codemirror_mode": {
    "name": "ipython",
    "version": 3
   },
   "file_extension": ".py",
   "mimetype": "text/x-python",
   "name": "python",
   "nbconvert_exporter": "python",
   "pygments_lexer": "ipython3",
   "version": "3.7.2"
  }
 },
 "nbformat": 4,
 "nbformat_minor": 2
}
